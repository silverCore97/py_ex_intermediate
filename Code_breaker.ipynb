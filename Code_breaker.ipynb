{
  "nbformat": 4,
  "nbformat_minor": 0,
  "metadata": {
    "colab": {
      "name": "Code breaker.ipynb",
      "provenance": [],
      "authorship_tag": "ABX9TyMHvuQtrAzwpemyBbbawyTm",
      "include_colab_link": true
    },
    "kernelspec": {
      "name": "python3",
      "display_name": "Python 3"
    },
    "language_info": {
      "name": "python"
    }
  },
  "cells": [
    {
      "cell_type": "markdown",
      "metadata": {
        "id": "view-in-github",
        "colab_type": "text"
      },
      "source": [
        "<a href=\"https://colab.research.google.com/github/silverCore97/py_ex_intermediate/blob/main/Code_breaker.ipynb\" target=\"_parent\"><img src=\"https://colab.research.google.com/assets/colab-badge.svg\" alt=\"Open In Colab\"/></a>"
      ]
    },
    {
      "cell_type": "code",
      "source": [
        "# Single round codebreaker\n",
        "import random"
      ],
      "metadata": {
        "id": "7xr-SVN2SICG"
      },
      "execution_count": 6,
      "outputs": []
    },
    {
      "cell_type": "code",
      "source": [
        "# check takes the secret in list form and the guess as Integer\n",
        "def check(secret,guess):\n",
        "    # guess to list\n",
        "    glist=[]\n",
        "    temp=[]\n",
        "    for i in range(0,len(secret)):\n",
        "        glist.append(int((guess/(pow(10,3-i)))%10))\n",
        "        temp.append(\"*\")\n",
        " \n",
        "    # Same number and position\n",
        "    for i in range(0,len(secret)):\n",
        "        if glist[i]==secret[i]:\n",
        "            temp[i]=\"b\"\n",
        "\n",
        "    # If number is another position and not already b\n",
        "    for i in range(0,len(secret)):\n",
        "        if temp[i] !=\"b\":\n",
        "            for j in range(0,len(secret)):\n",
        "                if temp[j] !=\"b\" and glist[i]==secret[j]:\n",
        "                        temp[i]=\"w\"\n",
        "\n",
        "    return temp"
      ],
      "metadata": {
        "id": "PoJl3kKqSJeW"
      },
      "execution_count": 7,
      "outputs": []
    },
    {
      "cell_type": "code",
      "source": [
        "def again():\n",
        "  while True:\n",
        "    x = input(\"Play Again? (Y/N)\\n\")\n",
        "    if x == \"Y\":\n",
        "      return True\n",
        "    elif x == \"N\":\n",
        "      return False\n",
        "    else:\n",
        "      print(\"Please enter again.\\n\")"
      ],
      "metadata": {
        "id": "V2O82waUUXaN"
      },
      "execution_count": 8,
      "outputs": []
    },
    {
      "cell_type": "code",
      "execution_count": 11,
      "metadata": {
        "colab": {
          "base_uri": "https://localhost:8080/"
        },
        "id": "kVl7H5H6RLkM",
        "outputId": "8c83bf6c-fda7-432f-e3de-adf46ac5f279"
      },
      "outputs": [
        {
          "output_type": "stream",
          "name": "stdout",
          "text": [
            "Welcome to Code Breaker!\n",
            "Guess the secret code x. It consists of 4 numbers between 1 and 9.\n",
            "\n",
            "b indicates that the guess for the position is correct.\n",
            "w indicates that the number appears somewhere else in the secret code.\n",
            "* indicates that the number does not appear in the secret code.\n",
            "\n",
            "\n",
            "Your 1. guess: \n",
            "1111\n",
            "****\n",
            "\n",
            "Your 2. guess: \n",
            "1111\n",
            "****\n",
            "\n",
            "Your 3. guess: \n",
            "1\n",
            "Incorrect answer length\n",
            "\n",
            "Your 4. guess: \n",
            "1111\n",
            "****\n",
            "\n",
            "Your 5. guess: \n",
            "1111\n",
            "****\n",
            "\n",
            "Your 6. guess: \n",
            "1111\n",
            "****\n",
            "\n",
            "\n",
            "You were unsuccessful in finding the code: [6, 8, 7, 2]\n",
            "Play Again? (Y/N)\n",
            "N\n",
            "Goodbye.\n"
          ]
        }
      ],
      "source": [
        "#Start game\n",
        "print(\"Welcome to Code Breaker!\")\n",
        "print(\"Guess the secret code x. It consists of 4 numbers between 1 and 9.\\n\")\n",
        "print(\"b indicates that the guess for the position is correct.\\n\"\n",
        "      \"w indicates that the number appears somewhere else in the secret code.\\n\"\n",
        "      \"* indicates that the number does not appear in the secret code.\\n\\n\")\n",
        "\n",
        "while True:\n",
        "\n",
        "\n",
        "  #Initialize secret code\n",
        "  random.seed()\n",
        "  secret=[]\n",
        "\n",
        "  for i in range(0,4):\n",
        "      secret.append(random.randint(1,9))\n",
        "\n",
        "  # Number of Tries\n",
        "  j=0\n",
        "  tries = 7\n",
        "  temp=\"\"\n",
        "  while j < tries - 1:\n",
        "      print(\"Your \"+str(j+1)+\". guess: \")\n",
        "      bool = True\n",
        "      while bool:\n",
        "        try:\n",
        "            guess=int(input())\n",
        "            bool = False\n",
        "        except:\n",
        "            print(\"Incorrect answer type.\\n\")\n",
        "            continue\n",
        "      if len(secret) == len(str(guess)):\n",
        "          temp = check(secret, guess)\n",
        "          x=\"\"\n",
        "          for i in range(0, len(secret)):\n",
        "              x=x+temp[i]\n",
        "          print(x+\"\\n\")\n",
        "          if \"*\" not in temp and \"w\" not in temp:\n",
        "              print(\"\\nYou found the Code!\\n\")\n",
        "              break;\n",
        "      else:\n",
        "          print(\"Incorrect answer length\\n\")\n",
        "      #Increase Iterator\n",
        "      j+=1\n",
        "\n",
        "  #If unsuccessful\n",
        "  if \"*\" in temp or \"w\" in temp:\n",
        "      print(\"\\nYou were unsuccessful in finding the code:\" ,111secret)\n",
        "    \n",
        "  \n",
        "  if again() == True:\n",
        "    pass\n",
        "  else:\n",
        "      print(\"Goodbye.\")\n",
        "      break\n"
      ]
    }
  ]
}