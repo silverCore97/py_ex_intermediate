{
  "nbformat": 4,
  "nbformat_minor": 0,
  "metadata": {
    "colab": {
      "name": "Hangman.ipynb",
      "provenance": [],
      "collapsed_sections": [],
      "authorship_tag": "ABX9TyMCV1BvhFyjUqxEWiDbc3p8",
      "include_colab_link": true
    },
    "kernelspec": {
      "name": "python3",
      "display_name": "Python 3"
    },
    "language_info": {
      "name": "python"
    }
  },
  "cells": [
    {
      "cell_type": "markdown",
      "metadata": {
        "id": "view-in-github",
        "colab_type": "text"
      },
      "source": [
        "<a href=\"https://colab.research.google.com/github/silverCore97/py_ex_intermediate/blob/main/Hangman.ipynb\" target=\"_parent\"><img src=\"https://colab.research.google.com/assets/colab-badge.svg\" alt=\"Open In Colab\"/></a>"
      ]
    },
    {
      "cell_type": "markdown",
      "source": [
        "Hangman"
      ],
      "metadata": {
        "id": "W8Gy-f5zH1pI"
      }
    },
    {
      "cell_type": "code",
      "execution_count": 10,
      "metadata": {
        "id": "lk_pXdeJH0lP"
      },
      "outputs": [],
      "source": [
        "#Imports\n",
        "import random"
      ]
    },
    {
      "cell_type": "code",
      "source": [
        "from google.colab import drive\n",
        "drive.mount('/content/drive')\n",
        "text_path = '/content/drive/MyDrive/Colab Notebooks/Hangman text.txt'"
      ],
      "metadata": {
        "colab": {
          "base_uri": "https://localhost:8080/"
        },
        "id": "zY6Qg5W0KDIo",
        "outputId": "12b50410-e207-4ce0-ddb2-481a71943a69"
      },
      "execution_count": 2,
      "outputs": [
        {
          "output_type": "stream",
          "name": "stdout",
          "text": [
            "Mounted at /content/drive\n"
          ]
        }
      ]
    },
    {
      "cell_type": "code",
      "source": [
        "# Get random English word for Hangman\n",
        "def getWord(text):\n",
        "  return random.choice(open(text).read().split(\"\\n\"))"
      ],
      "metadata": {
        "id": "5EnqLIBML7AX"
      },
      "execution_count": 20,
      "outputs": []
    },
    {
      "cell_type": "code",
      "source": [
        "def again():\n",
        "  while True:\n",
        "    x = input(\"Play Again? (Y/N)\")\n",
        "    if x == \"Y\":\n",
        "      return True\n",
        "    elif x == \"N\":\n",
        "      return False\n",
        "    else:\n",
        "      print(\"Please enter again.\")"
      ],
      "metadata": {
        "id": "Tvxyi7aiPTiQ"
      },
      "execution_count": 42,
      "outputs": []
    },
    {
      "cell_type": "code",
      "source": [
        "# Later with picture\n",
        "# used: Letters used\n",
        "# correct: Letters correct\n",
        "# secret: THE secret word\n",
        "# lives: How many lives are there in the beginning. Only reduced upon wrong guesses\n",
        "def display(used, correct, secret, lives):\n",
        "  print(\"\\nLIVES: \",str(lives-len(used)+len(correct)) ) #Print lives left\n",
        "  print(\"Letters used:\",used,\"\\n\")\n",
        "  blanks = '_' * len(secret)\n",
        "\n",
        "  for i in range(len(secret)):\n",
        "    if secret[i] in correct:\n",
        "      blanks = blanks[:i] + secret[i] +blanks[i+1:]\n",
        "\n",
        "  for i in blanks:\n",
        "    print(i, end=\" \")\n",
        "  print(\"\\n\")\n",
        "  \n"
      ],
      "metadata": {
        "id": "4-zSF-JYRyFc"
      },
      "execution_count": 45,
      "outputs": []
    },
    {
      "cell_type": "code",
      "source": [
        "# Return letter entered\n",
        "def guess(used):\n",
        "  while True:\n",
        "    letter = input(\"Guess a LETTER: \").lower()\n",
        "    if len(letter) != 1:\n",
        "      print(\"I said A letter!\")\n",
        "    elif letter not in \"abcdefghijklmnopqrstuvwxyz\":\n",
        "      print(\"I said a LETTER!\")\n",
        "    elif letter in used:\n",
        "      print(\"This letter has already been used. Choose another one.\")\n",
        "    else:\n",
        "      return letter"
      ],
      "metadata": {
        "id": "OtszLu6kUfE_"
      },
      "execution_count": 27,
      "outputs": []
    },
    {
      "cell_type": "code",
      "source": [
        "#main\n",
        "def main():\n",
        "  print(\"HANGMAN\")\n",
        "  lettersUsed = \"\"\n",
        "  lettersCorrect = \"\"\n",
        "  word = getWord(text_path)\n",
        "  finished = False\n",
        "  LIVES = 7\n",
        "  while True:\n",
        "    display(lettersUsed, lettersCorrect, word, LIVES)\n",
        "    guessedLetter = guess(lettersUsed)\n",
        "    lettersUsed += guessedLetter\n",
        "    if guessedLetter in word:\n",
        "      lettersCorrect += guessedLetter\n",
        "\n",
        "    # Check win and loss condition\n",
        "    if guessedLetter in word:\n",
        "      # WIN condition\n",
        "      guessedSecret = True\n",
        "      for i in range(len(word)):\n",
        "        if word[i] not in lettersCorrect:\n",
        "          guessedSecret = False\n",
        "          break\n",
        "      if guessedSecret:\n",
        "        print(\"Congratulations! The secret word was:\", word,\"\\n\")\n",
        "        finished = True\n",
        "    else:\n",
        "      if len(lettersUsed)-len(lettersCorrect) >= LIVES:\n",
        "        print(\"GAME OVER! The secret word was:\", word)\n",
        "        print(\"Out of your\",str(len(lettersUsed)),\"guesses,\", \\\n",
        "              str(len(lettersCorrect)) ,\"guesses were correct.\",\"\\n\")\n",
        "        finished = True\n",
        "    \n",
        "\n",
        "    if finished:\n",
        "      if again() == True:\n",
        "        lettersUsed = \"\"\n",
        "        lettersCorrect = \"\"\n",
        "        word = getWord(text_path)\n",
        "        finished = False\n",
        "      else:\n",
        "          print(\"Goodbye.\")\n",
        "          break"
      ],
      "metadata": {
        "id": "Ju2aWXszNKs3"
      },
      "execution_count": 43,
      "outputs": []
    },
    {
      "cell_type": "code",
      "source": [
        "main()"
      ],
      "metadata": {
        "colab": {
          "base_uri": "https://localhost:8080/"
        },
        "id": "qUeqiIEXaavg",
        "outputId": "25c39592-adfc-4520-cb18-916ff06d723a"
      },
      "execution_count": 46,
      "outputs": [
        {
          "output_type": "stream",
          "name": "stdout",
          "text": [
            "HANGMAN\n",
            "\n",
            "LIVES:  7\n",
            "Letters used:  \n",
            "\n",
            "_ _ _ _ _ \n",
            "\n",
            "Guess a LETTER: a\n",
            "\n",
            "LIVES:  7\n",
            "Letters used: a \n",
            "\n",
            "a _ _ _ _ \n",
            "\n",
            "Guess a LETTER: e\n",
            "\n",
            "LIVES:  7\n",
            "Letters used: ae \n",
            "\n",
            "a _ _ e _ \n",
            "\n",
            "Guess a LETTER: i\n",
            "\n",
            "LIVES:  6\n",
            "Letters used: aei \n",
            "\n",
            "a _ _ e _ \n",
            "\n",
            "Guess a LETTER: o\n",
            "\n",
            "LIVES:  5\n",
            "Letters used: aeio \n",
            "\n",
            "a _ _ e _ \n",
            "\n",
            "Guess a LETTER: u\n",
            "\n",
            "LIVES:  4\n",
            "Letters used: aeiou \n",
            "\n",
            "a _ _ e _ \n",
            "\n",
            "Guess a LETTER: n\n",
            "\n",
            "LIVES:  4\n",
            "Letters used: aeioun \n",
            "\n",
            "a _ _ e n \n",
            "\n",
            "Guess a LETTER: y\n",
            "\n",
            "LIVES:  3\n",
            "Letters used: aeiouny \n",
            "\n",
            "a _ _ e n \n",
            "\n",
            "Guess a LETTER: p\n",
            "\n",
            "LIVES:  2\n",
            "Letters used: aeiounyp \n",
            "\n",
            "a _ _ e n \n",
            "\n",
            "Guess a LETTER: r\n",
            "\n",
            "LIVES:  1\n",
            "Letters used: aeiounypr \n",
            "\n",
            "a _ _ e n \n",
            "\n",
            "Guess a LETTER: s\n",
            "GAME OVER! The secret word was: admen\n",
            "Out of your 10 guesses, 3 guesses were correct.\n",
            "Play Again? (Y/N)N\n",
            "Goodbye.\n"
          ]
        }
      ]
    }
  ]
}